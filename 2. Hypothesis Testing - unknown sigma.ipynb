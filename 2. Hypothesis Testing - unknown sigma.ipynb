{
 "cells": [
  {
   "cell_type": "code",
   "execution_count": 3,
   "metadata": {},
   "outputs": [],
   "source": [
    "# Author: Konstantin Borissov\n",
    "# Course: STAT 251, UBC\n",
    "# Date:   18-Nov-2020\n",
    "# Purpose: Interactive visualization tool for confidence intervals, test statistics, and hypothesis testing"
   ]
  },
  {
   "cell_type": "code",
   "execution_count": 9,
   "metadata": {},
   "outputs": [
    {
     "name": "stdout",
     "output_type": "stream",
     "text": [
      "Note: you may need to restart the kernel to use updated packages.\n"
     ]
    },
    {
     "name": "stderr",
     "output_type": "stream",
     "text": [
      "'d:\\konstantin\\documents\\school' is not recognized as an internal or external command,\n",
      "operable program or batch file.\n"
     ]
    }
   ],
   "source": [
    "%pip install matplotlib numpy scipy ipywidgets;"
   ]
  },
  {
   "cell_type": "code",
   "execution_count": 5,
   "metadata": {},
   "outputs": [],
   "source": [
    "%matplotlib notebook"
   ]
  },
  {
   "cell_type": "code",
   "execution_count": 6,
   "metadata": {},
   "outputs": [],
   "source": [
    "import matplotlib.pyplot as plt\n",
    "import matplotlib as mpl\n",
    "import matplotlib.lines as mlines\n",
    "import matplotlib.patches as mpatches\n",
    "import numpy as np\n",
    "import scipy.stats as stats\n",
    "import ipywidgets as widgets\n",
    "from ipywidgets import interact"
   ]
  },
  {
   "cell_type": "code",
   "execution_count": null,
   "metadata": {},
   "outputs": [],
   "source": [
    "#mpl.rcParams['savefig.dpi'] = 60\n",
    "#mpl.rcParams['figure.dpi'] = 60"
   ]
  },
  {
   "cell_type": "markdown",
   "metadata": {},
   "source": [
    "## 2. Hypothesis testing with unknown population mean $\\mu$ and _unknown_ population standard deviation $\\sigma$\n",
    "### The sample standard deviation $s$ will be used to approximate the population standard deviation $\\sigma$ and the sample mean will have a t-distribution. \n",
    "  \n",
    "\\\n",
    "For two-tailed test, where the null and alternate hypotheses are:   \n",
    "$H_0: \\mu = \\mu_0$  \n",
    "$H_a: \\mu \\neq \\mu_0$\n",
    "\n",
    "Given a sample size of $n$, sample mean $\\bar{x}$, sample mean standard deviation $s$, and a significance level of $\\alpha$,\n",
    "\n",
    "The t-distribution will have degrees of freedom: $$df = n-1$$\n",
    "\n",
    "Sample variance: $$s^2=\\frac{1}{n-1}\\sum_{n}^{i=1}\\left(x_i - \\bar{x}\\right)^2$$\n",
    "\n",
    "The test statistic: $$t=\\frac{\\bar{x} - \\mu_0}{\\left(s/\\sqrt{n}\\right)}\\sim t_{n-1}$$  \n",
    "  \n",
    "Confidence Interval: $$\\bar{x} \\pm t_{\\left(1-\\frac{\\alpha}{2}, df\\right)} \\cdot \\frac{s}{\\sqrt{n}} \n",
    "= \\left[ \n",
    "    \\bar{x} - t_{\\left(1-\\frac{\\alpha}{2}, df\\right)} \\cdot \\frac{s}{\\sqrt{n}},\\quad\n",
    "    \\bar{x} + t_{\\left(1-\\frac{\\alpha}{2}, df\\right)} \\cdot \\frac{s}{\\sqrt{n}} \n",
    " \\right]$$  \n",
    " \n",
    " which gives the $(1-\\alpha)\\cdot 100\\%$ interval.\n"
   ]
  },
  {
   "cell_type": "markdown",
   "metadata": {},
   "source": [
    "Click the run symbol on left side to start simulation"
   ]
  },
  {
   "cell_type": "code",
   "execution_count": 1,
   "metadata": {},
   "outputs": [
    {
     "ename": "NameError",
     "evalue": "name 'plt' is not defined",
     "output_type": "error",
     "traceback": [
      "\u001b[1;31m---------------------------------------------------------------------------\u001b[0m",
      "\u001b[1;31mNameError\u001b[0m                                 Traceback (most recent call last)",
      "\u001b[1;32m<ipython-input-1-e5229cdfaf48>\u001b[0m in \u001b[0;36m<module>\u001b[1;34m\u001b[0m\n\u001b[1;32m----> 1\u001b[1;33m \u001b[0mfig2\u001b[0m\u001b[1;33m,\u001b[0m \u001b[1;33m(\u001b[0m\u001b[0max3\u001b[0m\u001b[1;33m,\u001b[0m \u001b[0max4\u001b[0m\u001b[1;33m)\u001b[0m \u001b[1;33m=\u001b[0m \u001b[0mplt\u001b[0m\u001b[1;33m.\u001b[0m\u001b[0msubplots\u001b[0m\u001b[1;33m(\u001b[0m\u001b[1;36m2\u001b[0m\u001b[1;33m,\u001b[0m \u001b[1;36m1\u001b[0m\u001b[1;33m,\u001b[0m \u001b[0mfigsize\u001b[0m\u001b[1;33m=\u001b[0m\u001b[1;33m(\u001b[0m\u001b[1;36m15\u001b[0m\u001b[1;33m,\u001b[0m \u001b[1;36m6\u001b[0m\u001b[1;33m)\u001b[0m\u001b[1;33m,\u001b[0m \u001b[0mgridspec_kw\u001b[0m\u001b[1;33m=\u001b[0m\u001b[1;33m{\u001b[0m\u001b[1;34m'height_ratios'\u001b[0m\u001b[1;33m:\u001b[0m \u001b[1;33m[\u001b[0m\u001b[1;36m4\u001b[0m\u001b[1;33m,\u001b[0m \u001b[1;36m1\u001b[0m\u001b[1;33m]\u001b[0m\u001b[1;33m}\u001b[0m\u001b[1;33m)\u001b[0m\u001b[1;33m\u001b[0m\u001b[1;33m\u001b[0m\u001b[0m\n\u001b[0m\u001b[0;32m      2\u001b[0m \u001b[0max3\u001b[0m\u001b[1;33m.\u001b[0m\u001b[0mset_ylim\u001b[0m\u001b[1;33m(\u001b[0m\u001b[1;33m[\u001b[0m\u001b[1;36m0\u001b[0m\u001b[1;33m,\u001b[0m\u001b[1;36m0.5\u001b[0m\u001b[1;33m]\u001b[0m\u001b[1;33m)\u001b[0m\u001b[1;33m\u001b[0m\u001b[1;33m\u001b[0m\u001b[0m\n\u001b[0;32m      3\u001b[0m \u001b[0max3\u001b[0m\u001b[1;33m.\u001b[0m\u001b[0mset_xlim\u001b[0m\u001b[1;33m(\u001b[0m\u001b[1;33m[\u001b[0m\u001b[1;33m-\u001b[0m\u001b[1;36m4\u001b[0m\u001b[1;33m,\u001b[0m\u001b[1;36m4\u001b[0m\u001b[1;33m]\u001b[0m\u001b[1;33m)\u001b[0m\u001b[1;33m\u001b[0m\u001b[1;33m\u001b[0m\u001b[0m\n\u001b[0;32m      4\u001b[0m \u001b[0max3\u001b[0m\u001b[1;33m.\u001b[0m\u001b[0mgrid\u001b[0m\u001b[1;33m(\u001b[0m\u001b[1;32mTrue\u001b[0m\u001b[1;33m)\u001b[0m\u001b[1;33m\u001b[0m\u001b[1;33m\u001b[0m\u001b[0m\n\u001b[0;32m      5\u001b[0m \u001b[0mplt\u001b[0m\u001b[1;33m.\u001b[0m\u001b[0msubplots_adjust\u001b[0m\u001b[1;33m(\u001b[0m\u001b[0mhspace\u001b[0m \u001b[1;33m=\u001b[0m \u001b[1;36m0.4\u001b[0m\u001b[1;33m)\u001b[0m\u001b[1;33m\u001b[0m\u001b[1;33m\u001b[0m\u001b[0m\n",
      "\u001b[1;31mNameError\u001b[0m: name 'plt' is not defined"
     ]
    }
   ],
   "source": [
    "fig2, (ax3, ax4) = plt.subplots(2, 1, figsize=(15, 6), gridspec_kw={'height_ratios': [4, 1]})\n",
    "ax3.set_ylim([0,0.5])\n",
    "ax3.set_xlim([-4,4])\n",
    "ax3.grid(True)\n",
    "plt.subplots_adjust(hspace = 0.4)\n",
    "ax4.set_xlim([0, 20])\n",
    "ax4.grid(True)\n",
    "\n",
    "# create legend symbols\n",
    "rejection_region_patch = mpatches.Patch(color='blue', label='Rejection Region')\n",
    "test_statistic_line = mlines.Line2D([], [], color='red', marker='_', markersize=15, label='Test Statistic')\n",
    "ci_marker = mpatches.Patch(color='orange', label='Confidence Interval')\n",
    "mu_0 = mlines.Line2D([], [], color='green', marker='_', markersize=15, label='$μ_0$')\n",
    "\n",
    "# create legends\n",
    "ax3.legend(handles=[rejection_region_patch, test_statistic_line])\n",
    "ax4.legend(handles=[ci_marker, mu_0])\n",
    "\n",
    "# set labels\n",
    "ax4.yaxis.set_visible(False)\n",
    "ax3.set_xlabel(\"t\")\n",
    "#ax4.set_xlabel(\"μ\")\n",
    "\n",
    "# generate x values\n",
    "x = np.linspace(-4, 4, 100)\n",
    "x2 = np.linspace(0, 20, 1000)\n",
    "\n",
    "rejection_region = None\n",
    "reject_label = None\n",
    "test_stat_label = None\n",
    "mu_0_label = None\n",
    "\n",
    "\n",
    "def get_ci_ts(xbar, sample_mean_s, sample_size, alpha, mu_0):\n",
    "    # calculate statistics\n",
    "    t = stats.t.ppf(1 - alpha/2, sample_size - 1)\n",
    "    standard_error = sample_mean_s/np.sqrt(sample_size)\n",
    "    ci_min = xbar - t*standard_error\n",
    "    ci_max = xbar + t*standard_error\n",
    "    test_stat = (xbar-mu_0)/(sample_mean_s/np.sqrt(sample_size))\n",
    "    reject_h0 = (test_stat < -t) | (test_stat > t)\n",
    "    \n",
    "    # update data printout\n",
    "    print(f'{(1-alpha)*100}% Confidence Interval: [{ci_min: .2f}, {ci_max: .2f}]')\n",
    "    print(f'Test Statistic = {test_stat: .2f}')\n",
    "    print(f't = {t: .2f}')\n",
    "    return ci_min, ci_max, test_stat, t, reject_h0\n",
    "\n",
    " \n",
    "@widgets.interact(xbar=(0, 5, 0.1), sample_mean_s=(0.05, 5, 0.1), sample_size=(2,100,1), alpha=(0.01,0.15,0.01), mu_0=(0, 5, 0.1))\n",
    "def update_plot(xbar = 2.5, sample_mean_s=1, sample_size=4, alpha=0.05, mu_0=2):\n",
    "    global rejection_region, reject_label, test_stat_label, mu_0_label\n",
    "    \n",
    "    # calculate degrees of freedom\n",
    "    df = sample_size - 1\n",
    "     \n",
    "    # clear plot data\n",
    "    ax3.lines.clear()\n",
    "    ax4.lines.clear()\n",
    "    if rejection_region is not None:\n",
    "        ax3.collections.remove(rejection_region)\n",
    "        reject_label.remove()\n",
    "        test_stat_label.remove()\n",
    "        mu_0_label.remove()\n",
    "        ax4.collections.clear()\n",
    "    \n",
    "    # get new CI and statistics\n",
    "    lower_bound, upper_bound, ts, t, reject_h0 = get_ci_ts(xbar, sample_mean_s, sample_size, alpha, mu_0)\n",
    "    \n",
    "    # update confidence interval plot\n",
    "    ax4.set_title(f\"{(1-alpha)*100}% Confidence Interval for μ: [{lower_bound: .2f}, {upper_bound: .2f}]\")\n",
    "    ci = ax4.fill_between(x2, 1, where=(lower_bound <= x2) & (x2 <= upper_bound), color=\"orange\")\n",
    "    ax4.axvline(x=mu_0, color='green') # show hypothesized mu_0\n",
    "    mu_0_label = ax4.text(mu_0, 1.15, f'$μ_0$ = {mu_0: .2f}', ha='center', va='bottom',\n",
    "                              bbox={'facecolor': 'white', 'alpha': 0.75, 'pad': 3})\n",
    "    \n",
    "    # update t distribution plot\n",
    "    t_pdf = stats.t.pdf(x, df)  # create t pdf with specified df\n",
    "    ax3.set_title(f\"Student's t-Distribution with df = {df}\")\n",
    "    rejection_region = ax3.fill_between(x, t_pdf, where=(x < -t) | (t < x), color='blue')\n",
    "    ax3.plot(x, t_pdf, color='C0')\n",
    "    ax3.axvline(x=ts, color='red')\n",
    "    test_stat_label = ax3.text(ts, 0.25, f't = {ts: .2f}', ha='center', va='center',\n",
    "                              bbox={'facecolor': 'white', 'alpha': 0.85, 'pad': 3})\n",
    "    \n",
    "    # update h_0 rejection status\n",
    "    reject_text = f\"Reject $H_0$: {'YES' if reject_h0 else 'NO'}\" \n",
    "    text_bg_color = 'red' if reject_h0 else 'green'\n",
    "    print(reject_text)\n",
    "    reject_label = ax3.text(-2.5, 0.35, reject_text, style='normal', ha='center', va='center', \n",
    "                            bbox={'facecolor': text_bg_color, 'alpha': 0.3, 'pad': 5})"
   ]
  },
  {
   "cell_type": "code",
   "execution_count": null,
   "metadata": {},
   "outputs": [],
   "source": []
  }
 ],
 "metadata": {
  "kernelspec": {
   "display_name": "Python 3",
   "language": "python",
   "name": "python3"
  },
  "language_info": {
   "codemirror_mode": {
    "name": "ipython",
    "version": 3
   },
   "file_extension": ".py",
   "mimetype": "text/x-python",
   "name": "python",
   "nbconvert_exporter": "python",
   "pygments_lexer": "ipython3",
   "version": "3.7.4"
  }
 },
 "nbformat": 4,
 "nbformat_minor": 4
}
